{
 "cells": [
  {
   "cell_type": "markdown",
   "id": "02b33ee5",
   "metadata": {},
   "source": [
    "<a href='https://www.darshan.ac.in/'> <img src='https://www.darshan.ac.in/Content/media/DU_Logo.svg' width=\"250\" height=\"300\"/></a>\n",
    "<pre>\n",
    "<center><b><h1>Data Mining</b></center>\n",
    "<center><b><h1>Lab - 4</b></center>\n",
    "<h2><b>Mudit Bhatt</b></h2>\n",
    "<h2><b>23010101607</b></h2>\n",
    "<pre>"
   ]
  },
  {
   "cell_type": "markdown",
   "id": "0ddd064f",
   "metadata": {},
   "source": [
    "# Part -1"
   ]
  },
  {
   "cell_type": "markdown",
   "id": "6e290312",
   "metadata": {},
   "source": [
    "### 1) Write a python program to compute distance between Given two objects represented by the tuples (22, 1, 42, 10) and (20, 0, 36, 8): \n",
    "(a) Compute the Euclidean distance between the two objects. <BR>\n",
    "(b) Compute the Manhattan distance between the two objects. <BR>\n",
    "(c) Compute the Minkowski distance between the two objects, using q = 3. <BR>\n",
    "(d) Compute the supremum distance between the two objects.<BR>\n"
   ]
  },
  {
   "cell_type": "code",
   "execution_count": null,
   "id": "57de87d3",
   "metadata": {},
   "outputs": [
    {
     "ename": "",
     "evalue": "",
     "output_type": "error",
     "traceback": [
      "\u001b[1;31mRunning cells with 'Python 3.12.1' requires the ipykernel package.\n",
      "\u001b[1;31mRun the following command to install 'ipykernel' into the Python environment. \n",
      "\u001b[1;31mCommand: '\"c:/Program Files/Python312/python.exe\" -m pip install ipykernel -U --user --force-reinstall'"
     ]
    }
   ],
   "source": [
    "import math\n",
    "tuple1 = (22, 1, 42, 10)\n",
    "tuple2 = (20, 0, 36, 8)\n",
    "def euclidean_distance(t1, t2):\n",
    "    return math.sqrt(sum((a - b) ** 2 for a, b in zip(t1, t2)))\n",
    "euclidean = euclidean_distance(tuple1, tuple2)\n",
    "print(euclidean)"
   ]
  },
  {
   "cell_type": "code",
   "execution_count": null,
   "id": "40810dfa",
   "metadata": {},
   "outputs": [
    {
     "ename": "",
     "evalue": "",
     "output_type": "error",
     "traceback": [
      "\u001b[1;31mRunning cells with 'Python 3.12.1' requires the ipykernel package.\n",
      "\u001b[1;31mRun the following command to install 'ipykernel' into the Python environment. \n",
      "\u001b[1;31mCommand: '\"c:/Program Files/Python312/python.exe\" -m pip install ipykernel -U --user --force-reinstall'"
     ]
    }
   ],
   "source": [
    "import math\n",
    "tuple1 = (22, 1, 42, 10)\n",
    "tuple2 = (20, 0, 36, 8)\n",
    "def manhattan_distance(t1, t2):\n",
    "    return sum(abs(a - b) for a, b in zip(t1, t2))\n",
    "manhattan = manhattan_distance(tuple1, tuple2)\n",
    "print(manhattan)"
   ]
  },
  {
   "cell_type": "code",
   "execution_count": null,
   "id": "02c6f2ba",
   "metadata": {},
   "outputs": [
    {
     "ename": "",
     "evalue": "",
     "output_type": "error",
     "traceback": [
      "\u001b[1;31mRunning cells with 'Python 3.12.1' requires the ipykernel package.\n",
      "\u001b[1;31mRun the following command to install 'ipykernel' into the Python environment. \n",
      "\u001b[1;31mCommand: '\"c:/Program Files/Python312/python.exe\" -m pip install ipykernel -U --user --force-reinstall'"
     ]
    }
   ],
   "source": [
    "import math\n",
    "tuple1 = (22, 1, 42, 10)\n",
    "tuple2 = (20, 0, 36, 8)\n",
    "def minkowski_distance(t1, t2, q):\n",
    "    return (sum(abs(a - b) ** q for a, b in zip(t1, t2))) ** (1 / q)\n",
    "minkowski = minkowski_distance(tuple1, tuple2, 3)\n",
    "print(minkowski)"
   ]
  },
  {
   "cell_type": "code",
   "execution_count": null,
   "id": "b3d0cca3",
   "metadata": {},
   "outputs": [
    {
     "ename": "",
     "evalue": "",
     "output_type": "error",
     "traceback": [
      "\u001b[1;31mRunning cells with 'Python 3.12.1' requires the ipykernel package.\n",
      "\u001b[1;31mRun the following command to install 'ipykernel' into the Python environment. \n",
      "\u001b[1;31mCommand: '\"c:/Program Files/Python312/python.exe\" -m pip install ipykernel -U --user --force-reinstall'"
     ]
    }
   ],
   "source": [
    "import math\n",
    "tuple1 = (22, 1, 42, 10)\n",
    "tuple2 = (20, 0, 36, 8)\n",
    "def supremum_distance(t1, t2):\n",
    "    return max(abs(a - b) for a, b in zip(t1, t2))\n",
    "supremum = supremum_distance(tuple1, tuple2)\n",
    "print(supremum)"
   ]
  },
  {
   "cell_type": "markdown",
   "id": "14798cf7",
   "metadata": {},
   "source": [
    "### 2) Perform Preprocessing on Titanic Data set Using Orange Tools"
   ]
  },
  {
   "cell_type": "markdown",
   "id": "8bc0a247",
   "metadata": {},
   "source": [
    "### 3) Kindly Perform Data Exploration on New Restaurant Data Set\n",
    "\n",
    "Link - https://github.com/guipsamora/pandas_exercises/blob/master/01_Getting_%26_Knowing_Your_Data/Chipotle/Exercises.ipynb"
   ]
  },
  {
   "cell_type": "code",
   "execution_count": null,
   "id": "e4f709f6",
   "metadata": {},
   "outputs": [
    {
     "ename": "",
     "evalue": "",
     "output_type": "error",
     "traceback": [
      "\u001b[1;31mRunning cells with 'Python 3.12.1' requires the ipykernel package.\n",
      "\u001b[1;31mRun the following command to install 'ipykernel' into the Python environment. \n",
      "\u001b[1;31mCommand: '\"c:/Program Files/Python312/python.exe\" -m pip install ipykernel -U --user --force-reinstall'"
     ]
    }
   ],
   "source": []
  },
  {
   "cell_type": "markdown",
   "id": "8756bc0e",
   "metadata": {},
   "source": [
    "# PART - 2"
   ]
  },
  {
   "cell_type": "code",
   "execution_count": null,
   "id": "523e1ccd",
   "metadata": {},
   "outputs": [],
   "source": [
    "import pandas as pd"
   ]
  },
  {
   "cell_type": "code",
   "execution_count": null,
   "id": "01dc01bf",
   "metadata": {},
   "outputs": [],
   "source": []
  },
  {
   "cell_type": "markdown",
   "id": "b350ed2e",
   "metadata": {},
   "source": [
    "### 1)  First, you need to read the titanic dataset from local disk and display Last five records\n"
   ]
  },
  {
   "cell_type": "code",
   "execution_count": null,
   "id": "6b763f3d",
   "metadata": {},
   "outputs": [],
   "source": []
  },
  {
   "cell_type": "markdown",
   "id": "1b89cd9d",
   "metadata": {},
   "source": [
    "### 2)  Handle Missing Values in data set [use dropna(), fillna(), and interpolate]\n"
   ]
  },
  {
   "cell_type": "code",
   "execution_count": null,
   "id": "5e02a41d",
   "metadata": {},
   "outputs": [],
   "source": []
  },
  {
   "cell_type": "code",
   "execution_count": null,
   "id": "9010802e",
   "metadata": {},
   "outputs": [],
   "source": []
  },
  {
   "cell_type": "markdown",
   "id": "165e9a52",
   "metadata": {},
   "source": [
    "### 3) Write programs to perform the following tasks of preprocessing.\n",
    "\n",
    "Equal Width Binning <BR>\n",
    "Equal Frequency/Depth Binning"
   ]
  },
  {
   "cell_type": "code",
   "execution_count": null,
   "id": "a9343b46",
   "metadata": {},
   "outputs": [],
   "source": []
  },
  {
   "cell_type": "code",
   "execution_count": null,
   "id": "371148af",
   "metadata": {},
   "outputs": [],
   "source": []
  },
  {
   "cell_type": "markdown",
   "id": "6c580aff",
   "metadata": {},
   "source": [
    "### 4)  Apply Scaling to AGE attribute with min max, decimal scaling and z score.\n"
   ]
  },
  {
   "cell_type": "code",
   "execution_count": null,
   "id": "13dc27bc",
   "metadata": {},
   "outputs": [],
   "source": []
  },
  {
   "cell_type": "code",
   "execution_count": null,
   "id": "5c4c9c80",
   "metadata": {},
   "outputs": [],
   "source": []
  }
 ],
 "metadata": {
  "kernelspec": {
   "display_name": "Python 3 (ipykernel)",
   "language": "python",
   "name": "python3"
  },
  "language_info": {
   "codemirror_mode": {
    "name": "ipython",
    "version": 3
   },
   "file_extension": ".py",
   "mimetype": "text/x-python",
   "name": "python",
   "nbconvert_exporter": "python",
   "pygments_lexer": "ipython3",
   "version": "3.12.1"
  }
 },
 "nbformat": 4,
 "nbformat_minor": 5
}
